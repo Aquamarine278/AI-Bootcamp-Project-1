{
 "cells": [
  {
   "cell_type": "code",
   "execution_count": null,
   "metadata": {},
   "outputs": [],
   "source": [
    "# Define a function that reads a text file with two columns and stores it in a dictionary.\n",
    "def read_file_to_dict(file_path):\n",
    "    \"\"\"\n",
    "    Reads a text file with two columns and stores it in a dictionary.\n",
    "    \n",
    "    Args:\n",
    "    file_path (str): The path to the text file.\n",
    "    \n",
    "    Returns:\n",
    "    dict: A dictionary with keys from the first column and values from the second column.\n",
    "    \"\"\"\n",
    "    data_dict = {}\n",
    "    \n",
    "    with open(file_path, 'r') as file:\n",
    "        for line in file:\n",
    "            # Strip leading/trailing whitespace and split by whitespace\n",
    "            parts = line.strip().split(maxsplit=1)\n",
    "            if len(parts) == 2:\n",
    "                key, value = parts\n",
    "                data_dict[key] = value\n",
    "    \n",
    "    return data_dict"
   ]
  }
 ],
 "metadata": {
  "kernelspec": {
   "display_name": "base",
   "language": "python",
   "name": "python3"
  },
  "language_info": {
   "codemirror_mode": {
    "name": "ipython",
    "version": 3
   },
   "file_extension": ".py",
   "mimetype": "text/x-python",
   "name": "python",
   "nbconvert_exporter": "python",
   "pygments_lexer": "ipython3",
   "version": "3.12.4"
  }
 },
 "nbformat": 4,
 "nbformat_minor": 5
}
