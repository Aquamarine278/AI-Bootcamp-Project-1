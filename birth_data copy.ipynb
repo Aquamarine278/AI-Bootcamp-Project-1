{
 "cells": [
  {
   "cell_type": "code",
   "execution_count": 17,
   "metadata": {},
   "outputs": [],
   "source": [
    "# Define a function that reads a text file with two columns and stores it in a dictionary.\n",
    "def read_file_to_dict(file_path):\n",
    "    \"\"\"\n",
    "    Reads a text file with two columns and stores it in a dictionary.\n",
    "    \n",
    "    Args:\n",
    "    file_path (str): The path to the text file.\n",
    "    \n",
    "    Returns:\n",
    "    dict: A dictionary with keys from the first column and values from the second column.\n",
    "    \"\"\"\n",
    "    data_dict = {}\n",
    "    \n",
    "    with open(file_path, 'r') as file:\n",
    "        for line in file:\n",
    "            # Strip leading/trailing whitespace and split by whitespace\n",
    "            parts = line.strip().split(maxsplit=1)\n",
    "            if len(parts) == 2:\n",
    "                key, value = parts\n",
    "                data_dict[key] = value\n",
    "    \n",
    "    return data_dict"
   ]
  },
  {
   "cell_type": "code",
   "execution_count": null,
   "metadata": {},
   "outputs": [],
   "source": [
    "#Use the function to read the state and county data into dictionaries.\n",
    "\n",
    "state_dict = read_file_to_dict('resources/state_codes.txt')\n",
    "county_dict = read_file_to_dict('resources/county_codes.txt')\n",
    "display(state_dict)\n",
    "display(county_dict)"
   ]
  },
  {
   "cell_type": "code",
   "execution_count": null,
   "metadata": {},
   "outputs": [],
   "source": [
    "# for key in state_dict: if key begins with 0, then the '0' should not be used for mapping the state code to the state name.\n",
    "for key in state_dict:\n",
    "    if key[0] == '0':\n",
    "        state_dict[key[1:]] = state_dict[key] # create a new key without the leading '0' and assign the value of the original key to it.\n",
    "print(state_dict)\n"
   ]
  },
  {
   "cell_type": "code",
   "execution_count": null,
   "metadata": {},
   "outputs": [],
   "source": [
    "# Read the birth data from csv file and store it in a dataframe\n",
    "import pandas as pd\n",
    "\n",
    "birth_data_df = pd.read_csv('resources/allBirthData.csv')\n",
    "display(birth_data_df.head())\n",
    "display(birth_data_df.tail())\n",
    "birth_data_df.info()"
   ]
  },
  {
   "cell_type": "code",
   "execution_count": null,
   "metadata": {},
   "outputs": [],
   "source": [
    "# convert the state and county columns to strings\n",
    "birth_data_df['State'] = birth_data_df['State'].astype(str)\n",
    "birth_data_df['County'] = birth_data_df['County'].astype(str)\n",
    "birth_data_df.info()"
   ]
  },
  {
   "cell_type": "code",
   "execution_count": null,
   "metadata": {},
   "outputs": [],
   "source": [
    "# if birth_data_df['County'] ends with '.0' then remove the '.0' from the county value.\n",
    "birth_data_df['County'] = birth_data_df['County'].str.replace('.0', '')\n",
    "display(birth_data_df.head())\n",
    "# if birth_data_df['County'] length is 4, then add a leading '0' to the county value.\n",
    "birth_data_df['County'] = birth_data_df['County'].apply(lambda x: '0' + x if len(x) == 4 else x)\n",
    "display(birth_data_df.head())\n"
   ]
  },
  {
   "cell_type": "code",
   "execution_count": null,
   "metadata": {},
   "outputs": [],
   "source": [
    "# create a new column 'StateName' by mapping the 'State' column to the state names using the state_dict\n",
    "birth_data_df['StateName'] = birth_data_df['State'].map(state_dict)\n",
    "display(birth_data_df.head())\n",
    "display(birth_data_df.tail())\n"
   ]
  },
  {
   "cell_type": "code",
   "execution_count": null,
   "metadata": {},
   "outputs": [],
   "source": [
    "# create a new column 'CountyName' by mapping the 'County' column to the county names using the county_dict\n",
    "birth_data_df['CountyName'] = birth_data_df['County'].map(county_dict)\n",
    "display(birth_data_df.head())\n",
    "display(birth_data_df.tail())\n"
   ]
  }
 ],
 "metadata": {
  "kernelspec": {
   "display_name": "base",
   "language": "python",
   "name": "python3"
  },
  "language_info": {
   "codemirror_mode": {
    "name": "ipython",
    "version": 3
   },
   "file_extension": ".py",
   "mimetype": "text/x-python",
   "name": "python",
   "nbconvert_exporter": "python",
   "pygments_lexer": "ipython3",
   "version": "3.12.4"
  }
 },
 "nbformat": 4,
 "nbformat_minor": 2
}
